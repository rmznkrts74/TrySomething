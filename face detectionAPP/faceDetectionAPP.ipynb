{
 "cells": [
  {
   "cell_type": "code",
   "execution_count": 1,
   "metadata": {},
   "outputs": [
    {
     "ename": "ModuleNotFoundError",
     "evalue": "No module named 'face_recognition'",
     "output_type": "error",
     "traceback": [
      "\u001b[1;31m---------------------------------------------------------------------------\u001b[0m",
      "\u001b[1;31mModuleNotFoundError\u001b[0m                       Traceback (most recent call last)",
      "Cell \u001b[1;32mIn[1], line 1\u001b[0m\n\u001b[1;32m----> 1\u001b[0m \u001b[39mimport\u001b[39;00m \u001b[39mface_recognition\u001b[39;00m\n\u001b[0;32m      3\u001b[0m \u001b[39m# Kayıtlı yüzlerin fotoğraflarını yükle\u001b[39;00m\n\u001b[0;32m      4\u001b[0m known_image_1 \u001b[39m=\u001b[39m face_recognition\u001b[39m.\u001b[39mload_image_file(\u001b[39m\"\u001b[39m\u001b[39mbrad.jpg\u001b[39m\u001b[39m\"\u001b[39m)\n",
      "\u001b[1;31mModuleNotFoundError\u001b[0m: No module named 'face_recognition'"
     ]
    }
   ],
   "source": [
    "import face_recognition\n",
    "\n",
    "# Kayıtlı yüzlerin fotoğraflarını yükle\n",
    "known_image_1 = face_recognition.load_image_file(\"brad.jpg\")\n",
    "known_image_2 = face_recognition.load_image_file(\"kıvanc.jpg\")\n",
    "known_image_3 = face_recognition.load_image_file(\"ramazan.jpg\")\n",
    "\n",
    "# Kayıtlı yüzlerin özelliklerini hesapla\n",
    "known_face_encoding_1 = face_recognition.face_encodings(known_image_1)[0]\n",
    "known_face_encoding_2 = face_recognition.face_encodings(known_image_2)[0]\n",
    "known_face_encoding_3 = face_recognition.face_encodings(known_image_3)[0]\n",
    "\n",
    "#\n"
   ]
  },
  {
   "cell_type": "code",
   "execution_count": null,
   "metadata": {},
   "outputs": [
    {
     "ename": "ModuleNotFoundError",
     "evalue": "No module named 'cv2'",
     "output_type": "error",
     "traceback": [
      "\u001b[1;31m---------------------------------------------------------------------------\u001b[0m",
      "\u001b[1;31mModuleNotFoundError\u001b[0m                       Traceback (most recent call last)",
      "Cell \u001b[1;32mIn[16], line 1\u001b[0m\n\u001b[1;32m----> 1\u001b[0m \u001b[39mimport\u001b[39;00m \u001b[39mcv2\u001b[39;00m\n\u001b[0;32m      2\u001b[0m \u001b[39mimport\u001b[39;00m \u001b[39mface_recognition\u001b[39;00m\n\u001b[0;32m      4\u001b[0m \u001b[39m# Kayıtlı yüzleri yükle\u001b[39;00m\n",
      "\u001b[1;31mModuleNotFoundError\u001b[0m: No module named 'cv2'"
     ]
    }
   ],
   "source": [
    "import cv2\n",
    "import face_recognition\n",
    "\n",
    "# Kayıtlı yüzleri yükle\n",
    "known_face_encodings = [known_face_encoding_1, known_face_encoding_2, ...] # kayıtlı yüz kodlarının listesi\n",
    "known_face_names = [\"Brad\", \"Kıvanc\",\"Ramazan\"] # kayıtlı yüzlerin isimlerinin listesi\n",
    "\n",
    "# Sonsuz döngüde, kameradan görüntü yakala ve yüzleri tespit et\n",
    "while True:\n",
    "    # Görüntü yakala\n",
    "    ret, frame = video_capture.read()\n",
    "\n",
    "    # Yüzleri tespit et\n",
    "    face_locations = face_recognition.face_locations(frame)\n",
    "    face_encodings = face_recognition.face_encodings(frame, face_locations)\n",
    "\n",
    "    # Tespit edilen yüzlerin etrafına dikdörtgen çiz ve eşleştirme yap\n",
    "    for (top, right, bottom, left), face_encoding in zip(face_locations, face_encodings):\n",
    "        # Tespit edilen yüzü çıkar\n",
    "        matches = face_recognition.compare_faces(known_face_encodings, face_encoding)\n",
    "\n",
    "        # Eşleşen yüzün adını bul\n",
    "        name = \"Bilinmiyor\"\n",
    "        if True in matches:\n",
    "            first_match_index = matches.index(True)\n",
    "            name = known_face_names[first_match_index]\n",
    "\n",
    "        # Tespit edilen yüzün etrafına dikdörtgen çiz ve ismini yaz\n",
    "        cv2.rectangle(frame, (left, top), (right, bottom), (0, 0, 255), 2)\n",
    "        cv2.rectangle(frame, (left, bottom - 35), (right, bottom), (0, 0, 255), cv2.FILLED)\n",
    "        font = cv2.FONT_HERSHEY_DUPLEX\n",
    "        cv2.putText(frame, name, (left + 6, bottom - 6), font, 1.0, (255, 255, 255), 1)\n",
    "\n",
    "    # Çıktı görüntüsünü göster\n",
    "    cv2.imshow('Video', frame)\n",
    "\n",
    "    # Çıkış yapmak için 'q' tuşuna bas\n",
    "    if cv2.waitKey(1) & 0xFF == ord('q'):\n",
    "        break\n",
    "\n",
    "# Temizleme\n",
    "video_capture.release()\n",
    "cv2.destroyAllWindows()\n"
   ]
  }
 ],
 "metadata": {
  "kernelspec": {
   "display_name": "Python 3",
   "language": "python",
   "name": "python3"
  },
  "language_info": {
   "codemirror_mode": {
    "name": "ipython",
    "version": 3
   },
   "file_extension": ".py",
   "mimetype": "text/x-python",
   "name": "python",
   "nbconvert_exporter": "python",
   "pygments_lexer": "ipython3",
   "version": "3.11.2"
  },
  "orig_nbformat": 4,
  "vscode": {
   "interpreter": {
    "hash": "88e1b46aa5bbdaa97e3ba20a447dda1a60cb7e33c793de80d15baa6b6f593299"
   }
  }
 },
 "nbformat": 4,
 "nbformat_minor": 2
}
